{
 "cells": [
  {
   "cell_type": "code",
   "execution_count": 21,
   "metadata": {},
   "outputs": [],
   "source": [
    "import pandas as pd"
   ]
  },
  {
   "cell_type": "code",
   "execution_count": 22,
   "metadata": {},
   "outputs": [],
   "source": [
    "df_train = pd.read_csv(\"../dataset/train_cleaned_outliers.csv\")\n",
    "df_train_id = df_train.pop(\"Id\")\n",
    "df_train_target = df_train.pop(\"CO2 Emissions(g/km)\")\n",
    "\n",
    "df_test = pd.read_csv(\"../dataset/test_cleaned_outliers.csv\")\n",
    "df_test_id = df_test.pop(\"Id\")"
   ]
  },
  {
   "cell_type": "code",
   "execution_count": 23,
   "metadata": {},
   "outputs": [],
   "source": [
    "for col in df_train.columns:\n",
    "    if df_train[col].dtype == \"object\":\n",
    "        df_train[col] = df_train[col].astype(\"category\")\n",
    "\n",
    "for col in df_test.columns:\n",
    "    if df_test[col].dtype == \"object\":\n",
    "        df_test[col] = df_test[col].astype(\"category\")"
   ]
  },
  {
   "cell_type": "code",
   "execution_count": 24,
   "metadata": {},
   "outputs": [],
   "source": [
    "fuel_consumption_features = [\n",
    "    \"Fuel Consumption City\",\n",
    "    \"Fuel Consumption Hwy\",\n",
    "    \"Fuel Consumption Comb\",\n",
    "    # \"CO2 Emissions(g/km)\",\n",
    "]\n",
    "\n",
    "\n",
    "engine_cylinders_features = [\n",
    "    \"Engine Size(L)\",\n",
    "    \"Cylinders\",\n",
    "    # \"Vehicle Class\",\n",
    "    # \"Vehicle Type\",\n",
    "    \"Make\",\n",
    "    \"Fuel Consumption City\",\n",
    "    \"Fuel Consumption Hwy\",\n",
    "    \"Fuel Consumption Comb\",\n",
    "    # \"CO2 Emissions(g/km)\"\n",
    "]\n",
    "\n",
    "# [\"Engine Size(L)\", \"Cylinders\", \"CO2 Emissions(g/km)\", \"Make\", \"Vehicle Class\"] # with category features"
   ]
  },
  {
   "cell_type": "code",
   "execution_count": 25,
   "metadata": {},
   "outputs": [],
   "source": [
    "import miceforest as mf\n",
    "\n",
    "\n",
    "def train_imputation_kernel(df, column_features, n_iterations=10, random_state=42):\n",
    "    # Select the features to impute\n",
    "    df_to_impute = df[column_features]\n",
    "\n",
    "    # Create and fit the ImputationKernel\n",
    "    kds = mf.ImputationKernel(\n",
    "        df_to_impute, save_all_iterations=True, random_state=random_state, train_nonmissing=True\n",
    "    )\n",
    "    kds.mice(n_iterations)\n",
    "\n",
    "    return kds\n",
    "\n",
    "\n",
    "def impute_data(df, column_features, kds=None, n_iterations=10, random_state=42):\n",
    "    # Select the features to impute\n",
    "    df_to_impute = df[column_features]\n",
    "\n",
    "    if kds is None:\n",
    "        # If no existing ImputationKernel is provided, train a new one\n",
    "        kds = train_imputation_kernel(df, column_features, n_iterations=n_iterations, random_state=random_state)\n",
    "\n",
    "    # Impute the data\n",
    "    new_data = kds.impute_new_data(new_data=df_to_impute)\n",
    "    df_imputed = new_data.complete_data()\n",
    "\n",
    "    # Replace the original columns in df with the imputed ones\n",
    "    df.loc[:, column_features] = df_imputed\n",
    "\n",
    "    return df\n",
    "\n",
    "\n",
    "def impute_train_test_data(\n",
    "    df_train, df_test, column_features, n_iterations=10, random_state=42\n",
    "):\n",
    "    # Select the features to impute\n",
    "    df_train_to_impute = df_train[column_features]\n",
    "    df_test_to_impute = df_test[column_features]\n",
    "\n",
    "    # Create and fit the ImputationKernel on the training data\n",
    "    kds = mf.ImputationKernel(\n",
    "        df_train_to_impute, save_all_iterations=True, random_state=random_state\n",
    "    )\n",
    "    kds.mice(n_iterations)\n",
    "\n",
    "    # Impute the training data\n",
    "    df_train_imputed = kds.complete_data()\n",
    "\n",
    "    # Impute the test data\n",
    "    new_data = kds.impute_new_data(new_data=df_test_to_impute)\n",
    "    df_test_imputed = new_data.complete_data()\n",
    "\n",
    "    # Replace the original columns in df_train and df_test with the imputed ones\n",
    "    df_train.loc[:, column_features] = df_train_imputed\n",
    "    df_test.loc[:, column_features] = df_test_imputed\n",
    "\n",
    "    return df_train, df_test"
   ]
  },
  {
   "cell_type": "markdown",
   "metadata": {},
   "source": [
    "# pipeline 3"
   ]
  },
  {
   "cell_type": "code",
   "execution_count": 26,
   "metadata": {},
   "outputs": [],
   "source": [
    "fuel_consumption_features = [\n",
    "    \"Fuel Consumption City\",\n",
    "    \"Fuel Consumption Hwy\",\n",
    "    \"Fuel Consumption Comb\",\n",
    "    # \"CO2 Emissions(g/km)\",\n",
    "]\n",
    "\n",
    "\n",
    "engine_cylinders_features = [\n",
    "    \"Engine Size(L)\",\n",
    "    \"Cylinders\",\n",
    "    # \"Vehicle Class\",\n",
    "    # \"Vehicle Type\",\n",
    "    \"Make\",\n",
    "    \"Fuel Consumption City\",\n",
    "    \"Fuel Consumption Hwy\",\n",
    "    \"Fuel Consumption Comb\",\n",
    "    # \"CO2 Emissions(g/km)\",\n",
    "]\n",
    "\n",
    "# [\"Engine Size(L)\", \"Cylinders\", \"CO2 Emissions(g/km)\", \"Make\", \"Vehicle Class\"] # with category features\n",
    "\n",
    "categorical_features = [\n",
    "    \"Vehicle Class\",\n",
    "    \"Transmission\",\n",
    "    \"Fuel Type\",\n",
    "    \"Make\",\n",
    "    \"Engine Size(L)\",\n",
    "    \"Cylinders\",\n",
    "    # \"CO2 Emissions(g/km)\",\n",
    "]"
   ]
  },
  {
   "cell_type": "code",
   "execution_count": 27,
   "metadata": {},
   "outputs": [],
   "source": [
    "df_train = pd.concat([df_train, df_train_target], axis=1)\n",
    "df_train = impute_data(df_train, fuel_consumption_features + [\"CO2 Emissions(g/km)\"])\n",
    "df_train_target = df_train.pop(\"CO2 Emissions(g/km)\")\n",
    "kds = train_imputation_kernel(df_train, fuel_consumption_features)\n",
    "df_test = impute_data(df_test, fuel_consumption_features, kds)"
   ]
  },
  {
   "cell_type": "code",
   "execution_count": 28,
   "metadata": {},
   "outputs": [],
   "source": [
    "df_train = pd.concat([df_train, df_train_target], axis=1)\n",
    "df_train = impute_data(df_train, engine_cylinders_features + [\"CO2 Emissions(g/km)\"])\n",
    "df_train_target = df_train.pop(\"CO2 Emissions(g/km)\")\n",
    "kds = train_imputation_kernel(df_train, engine_cylinders_features)\n",
    "df_test = impute_data(df_test, engine_cylinders_features, kds)"
   ]
  },
  {
   "cell_type": "code",
   "execution_count": 29,
   "metadata": {},
   "outputs": [
    {
     "name": "stderr",
     "output_type": "stream",
     "text": [
      "c:\\Users\\sesar\\Documents\\_PROJECTS\\bebass\\venv31011\\lib\\site-packages\\miceforest\\ImputationKernel.py:370: UserWarning: [Transmission,Fuel Type] have very rare categories, it is a good idea to group these, or set the min_data_in_leaf parameter to prevent lightgbm from outputting 0.0 probabilities.\n",
      "  warn(\n",
      "c:\\Users\\sesar\\Documents\\_PROJECTS\\bebass\\venv31011\\lib\\site-packages\\miceforest\\ImputationKernel.py:370: UserWarning: [Transmission,Fuel Type] have very rare categories, it is a good idea to group these, or set the min_data_in_leaf parameter to prevent lightgbm from outputting 0.0 probabilities.\n",
      "  warn(\n"
     ]
    }
   ],
   "source": [
    "df_train = pd.concat([df_train, df_train_target], axis=1)\n",
    "df_train = impute_data(df_train, categorical_features + [\"CO2 Emissions(g/km)\"])\n",
    "df_train_target = df_train.pop(\"CO2 Emissions(g/km)\")\n",
    "kds = train_imputation_kernel(df_train, categorical_features)\n",
    "df_test = impute_data(df_test, categorical_features, kds)"
   ]
  },
  {
   "cell_type": "code",
   "execution_count": null,
   "metadata": {},
   "outputs": [],
   "source": [
    "for col in df_train.columns:\n",
    "    if df_train[col].dtype == \"category\":\n",
    "        df_train[col] = df_train[col].astype(\"object\")\n",
    "\n",
    "for col in df_test.columns:\n",
    "    if df_test[col].dtype == \"category\":\n",
    "        df_test[col] = df_test[col].astype(\"object\")\n",
    "\n",
    "import functions as func\n",
    "\n",
    "df_train = func.process_transmission(df_train)\n",
    "df_test = func.process_transmission(df_test)\n",
    "\n",
    "df_train = func.group_vehicle_classes(df_train)\n",
    "df_test = func.group_vehicle_classes(df_test)\n",
    "\n",
    "df_train = func.group_vehicle_types(df_train)\n",
    "df_test = func.group_vehicle_types(df_test)\n",
    "\n",
    "df_train = df_train.fillna(-1)\n",
    "df_test = df_test.fillna(-1)\n",
    "\n",
    "df_train.insert(0, \"Id\", df_train_id)\n",
    "df_train = pd.concat([df_train, df_train_target], axis=1)\n",
    "\n",
    "df_test.insert(0, \"Id\", df_test_id)\n",
    "\n",
    "df_train.to_csv(\"../dataset/train_cleaned_outliers_imputed_3.csv\", index=False)\n",
    "df_test.to_csv(\"../dataset/test_cleaned_outliers_imputed_3.csv\", index=False)"
   ]
  },
  {
   "cell_type": "markdown",
   "metadata": {},
   "source": [
    "# pipeline 2"
   ]
  },
  {
   "cell_type": "code",
   "execution_count": 15,
   "metadata": {},
   "outputs": [
    {
     "name": "stderr",
     "output_type": "stream",
     "text": [
      "c:\\Users\\sesar\\Documents\\_PROJECTS\\bebass\\venv31011\\lib\\site-packages\\miceforest\\ImputationKernel.py:370: UserWarning: [Transmission,Fuel Type] have very rare categories, it is a good idea to group these, or set the min_data_in_leaf parameter to prevent lightgbm from outputting 0.0 probabilities.\n",
      "  warn(\n"
     ]
    }
   ],
   "source": [
    "df_for_training = pd.concat([df_train.copy(), df_test.copy()], axis=0)\n",
    "df_for_training.dropna(inplace=True)\n",
    "df_for_training = df_for_training.apply(\n",
    "    lambda x: x.cat.remove_unused_categories() if x.dtype.name == \"category\" else x\n",
    ")\n",
    "kds = train_imputation_kernel(df_for_training, df_for_training.columns.to_list())"
   ]
  },
  {
   "cell_type": "code",
   "execution_count": 21,
   "metadata": {},
   "outputs": [],
   "source": [
    "df_train = df_train.astype(df_for_training.dtypes)\n",
    "df_test = df_test.astype(df_for_training.dtypes)"
   ]
  },
  {
   "cell_type": "code",
   "execution_count": 22,
   "metadata": {},
   "outputs": [],
   "source": [
    "df_train = impute_data(df_train, df_for_training.columns.to_list(), kds)\n",
    "df_test = impute_data(df_test, df_for_training.columns.to_list(), kds)"
   ]
  },
  {
   "cell_type": "code",
   "execution_count": 27,
   "metadata": {},
   "outputs": [],
   "source": [
    "for col in df_train.columns:\n",
    "    if df_train[col].dtype == \"category\":\n",
    "        df_train[col] = df_train[col].astype(\"object\")\n",
    "\n",
    "for col in df_test.columns:\n",
    "    if df_test[col].dtype == \"category\":\n",
    "        df_test[col] = df_test[col].astype(\"object\")"
   ]
  },
  {
   "cell_type": "code",
   "execution_count": 28,
   "metadata": {},
   "outputs": [],
   "source": [
    "import functions as func\n",
    "\n",
    "df_train = func.process_transmission(df_train)\n",
    "df_test = func.process_transmission(df_test)\n",
    "\n",
    "df_train = func.group_vehicle_classes(df_train)\n",
    "df_test = func.group_vehicle_classes(df_test)\n",
    "\n",
    "df_train = func.group_vehicle_types(df_train)\n",
    "df_test = func.group_vehicle_types(df_test)"
   ]
  },
  {
   "cell_type": "code",
   "execution_count": null,
   "metadata": {},
   "outputs": [],
   "source": [
    "df_train = df_train.fillna(-1)\n",
    "df_test = df_test.fillna(-1)"
   ]
  },
  {
   "cell_type": "code",
   "execution_count": null,
   "metadata": {},
   "outputs": [],
   "source": [
    "df_train.insert(0, \"Id\", df_train_id)\n",
    "df_train = pd.concat([df_train, df_train_target], axis=1)\n",
    "\n",
    "df_test.insert(0, \"Id\", df_test_id)\n",
    "\n",
    "df_train.to_csv(\"../dataset/train_cleaned_outliers_imputed_2.csv\", index=False)\n",
    "df_test.to_csv(\"../dataset/test_cleaned_outliers_imputed_2.csv\", index=False)"
   ]
  },
  {
   "cell_type": "markdown",
   "metadata": {},
   "source": [
    "# pipeline 1"
   ]
  },
  {
   "cell_type": "code",
   "execution_count": 69,
   "metadata": {},
   "outputs": [],
   "source": [
    "df_train, df_test = impute_train_test_data(\n",
    "    df_train, df_test, fuel_consumption_features\n",
    ")"
   ]
  },
  {
   "cell_type": "code",
   "execution_count": 70,
   "metadata": {},
   "outputs": [],
   "source": [
    "df_train = pd.concat([df_train, df_train_target], axis=1)\n",
    "df_train = impute_data(df_train, engine_cylinders_features + [\"CO2 Emissions(g/km)\"])\n",
    "df_train_target = df_train.pop(\"CO2 Emissions(g/km)\")\n",
    "kds = train_imputation_kernel(df_train, engine_cylinders_features)\n",
    "df_test = impute_data(df_test, engine_cylinders_features, kds)"
   ]
  },
  {
   "cell_type": "code",
   "execution_count": 71,
   "metadata": {},
   "outputs": [],
   "source": [
    "categorical_features = [\n",
    "    \"Make\",\n",
    "    \"Vehicle Class\",\n",
    "    \"Transmission\",\n",
    "    \"Fuel Type\",\n",
    "    \"Engine Size(L)\",\n",
    "    \"Cylinders\",\n",
    "]"
   ]
  },
  {
   "cell_type": "code",
   "execution_count": 72,
   "metadata": {},
   "outputs": [
    {
     "name": "stderr",
     "output_type": "stream",
     "text": [
      "c:\\Users\\sesar\\Documents\\_PROJECTS\\bebass\\venv31011\\lib\\site-packages\\miceforest\\ImputationKernel.py:370: UserWarning: [Transmission,Fuel Type] have very rare categories, it is a good idea to group these, or set the min_data_in_leaf parameter to prevent lightgbm from outputting 0.0 probabilities.\n",
      "  warn(\n"
     ]
    }
   ],
   "source": [
    "df_train, df_test = impute_train_test_data(df_train, df_test, categorical_features)"
   ]
  },
  {
   "cell_type": "code",
   "execution_count": 73,
   "metadata": {},
   "outputs": [
    {
     "data": {
      "text/plain": [
       "Make                        0\n",
       "Vehicle Class               0\n",
       "Engine Size(L)              0\n",
       "Cylinders                   0\n",
       "Transmission                0\n",
       "Fuel Type                   0\n",
       "Fuel Consumption City       0\n",
       "Fuel Consumption Hwy        0\n",
       "Fuel Consumption Comb       0\n",
       "Transmission_Type        1483\n",
       "Gears                    4646\n",
       "Vehicle Class General    2051\n",
       "Vehicle Type                0\n",
       "is_outlier                  0\n",
       "dtype: int64"
      ]
     },
     "execution_count": 73,
     "metadata": {},
     "output_type": "execute_result"
    }
   ],
   "source": [
    "df_train.isna().sum()"
   ]
  },
  {
   "cell_type": "code",
   "execution_count": 74,
   "metadata": {},
   "outputs": [
    {
     "data": {
      "text/plain": [
       "Make                        0\n",
       "Vehicle Class               0\n",
       "Engine Size(L)              0\n",
       "Cylinders                   0\n",
       "Transmission                0\n",
       "Fuel Type                   0\n",
       "Fuel Consumption City       0\n",
       "Fuel Consumption Hwy        0\n",
       "Fuel Consumption Comb       0\n",
       "Transmission_Type         613\n",
       "Gears                    1987\n",
       "Vehicle Class General     863\n",
       "Vehicle Type                0\n",
       "is_outlier                  0\n",
       "dtype: int64"
      ]
     },
     "execution_count": 74,
     "metadata": {},
     "output_type": "execute_result"
    }
   ],
   "source": [
    "df_test.isna().sum()"
   ]
  },
  {
   "cell_type": "code",
   "execution_count": 78,
   "metadata": {},
   "outputs": [],
   "source": [
    "for col in df_train.columns:\n",
    "    if df_train[col].dtype == \"category\":\n",
    "        df_train[col] = df_train[col].astype(\"object\")\n",
    "\n",
    "for col in df_test.columns:\n",
    "    if df_test[col].dtype == \"category\":\n",
    "        df_test[col] = df_test[col].astype(\"object\")"
   ]
  },
  {
   "cell_type": "code",
   "execution_count": 82,
   "metadata": {},
   "outputs": [],
   "source": [
    "import functions as func\n",
    "\n",
    "df_train = func.process_transmission(df_train)\n",
    "df_test = func.process_transmission(df_test)\n",
    "\n",
    "df_train = func.group_vehicle_classes(df_train)\n",
    "df_test = func.group_vehicle_classes(df_test)\n",
    "\n",
    "df_train = func.group_vehicle_types(df_train)\n",
    "df_test = func.group_vehicle_types(df_test)"
   ]
  },
  {
   "cell_type": "code",
   "execution_count": 85,
   "metadata": {},
   "outputs": [],
   "source": [
    "df_train = df_train.fillna(-1)\n",
    "df_test = df_test.fillna(-1)"
   ]
  },
  {
   "cell_type": "code",
   "execution_count": 94,
   "metadata": {},
   "outputs": [],
   "source": [
    "df_train.insert(0, \"Id\", df_train_id)\n",
    "df_train = pd.concat([df_train, df_train_target], axis=1)\n",
    "\n",
    "df_test.insert(0, \"Id\", df_test_id)\n",
    "\n",
    "df_train.to_csv(\"../dataset/train_cleaned_outliers_imputed.csv\", index=False)\n",
    "df_test.to_csv(\"../dataset/test_cleaned_outliers_imputed.csv\", index=False)"
   ]
  }
 ],
 "metadata": {
  "kernelspec": {
   "display_name": "venv31011",
   "language": "python",
   "name": "python3"
  },
  "language_info": {
   "codemirror_mode": {
    "name": "ipython",
    "version": 3
   },
   "file_extension": ".py",
   "mimetype": "text/x-python",
   "name": "python",
   "nbconvert_exporter": "python",
   "pygments_lexer": "ipython3",
   "version": "3.10.11"
  }
 },
 "nbformat": 4,
 "nbformat_minor": 2
}
